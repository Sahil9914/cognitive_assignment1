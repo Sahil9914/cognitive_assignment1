{
  "nbformat": 4,
  "nbformat_minor": 0,
  "metadata": {
    "colab": {
      "provenance": []
    },
    "kernelspec": {
      "name": "python3",
      "display_name": "Python 3"
    },
    "language_info": {
      "name": "python"
    }
  },
  "cells": [
    {
      "cell_type": "markdown",
      "source": [],
      "metadata": {
        "id": "x_r8t6GRLeAk"
      }
    },
    {
      "cell_type": "markdown",
      "source": [
        "Question 1\n"
      ],
      "metadata": {
        "id": "6CIudRyRLhkM"
      }
    },
    {
      "cell_type": "code",
      "source": [
        "L = [10, 20, 30, 40, 50, 60, 70, 80]\n",
        "# (i) part\n",
        "L.append(200)\n",
        "L.append(300)\n",
        "print(L)\n",
        "# (ii) part\n",
        "L.remove(10)\n",
        "L.remove(30)\n",
        "print(L)\n",
        "# (iii) part\n",
        "L.sort()\n",
        "print(\"Ascending:\", L)\n",
        "# (iv) part\n",
        "L.sort(reverse=True)\n",
        "print(\"Descending:\", L)\n"
      ],
      "metadata": {
        "colab": {
          "base_uri": "https://localhost:8080/"
        },
        "id": "Y3HtDfW_LkVx",
        "outputId": "c21be482-3506-4374-9ad5-e7f416b87dd6"
      },
      "execution_count": 2,
      "outputs": [
        {
          "output_type": "stream",
          "name": "stdout",
          "text": [
            "[10, 20, 30, 40, 50, 60, 70, 80, 200, 300]\n",
            "[20, 40, 50, 60, 70, 80, 200, 300]\n",
            "Ascending: [20, 40, 50, 60, 70, 80, 200, 300]\n",
            "Descending: [300, 200, 80, 70, 60, 50, 40, 20]\n"
          ]
        }
      ]
    },
    {
      "cell_type": "markdown",
      "source": [
        "Question 2\n"
      ],
      "metadata": {
        "id": "_fu8nwpaL0Qk"
      }
    },
    {
      "cell_type": "code",
      "source": [
        "scores = (45, 89.5, 76, 45.4, 89, 92, 58, 45)\n",
        "# (i) part\n",
        "high = max(scores)\n",
        "index_high = scores.index(high)\n",
        "print(\"Highest:\", high, \"at index\", index_high)\n",
        "# (ii) part\n",
        "low = min(scores)\n",
        "count_low = scores.count(low)\n",
        "print(\"Lowest:\", low, \"appears\", count_low, \"times\")\n",
        "# (iii) part\n",
        "rev = list(scores[::-1])\n",
        "print(\"Reversed:\", rev)\n",
        "# (iv) part\n",
        "num = 76  # You can also use input(\"Enter number: \")\n",
        "if num in scores:\n",
        "    print(num, \"found at index\", scores.index(num))\n",
        "else:\n",
        "    print(num, \"is not in tuple\")\n"
      ],
      "metadata": {
        "colab": {
          "base_uri": "https://localhost:8080/"
        },
        "id": "MPH3de43L4Z6",
        "outputId": "778e6710-67d8-4c3b-95aa-2dbbbb734491"
      },
      "execution_count": 6,
      "outputs": [
        {
          "output_type": "stream",
          "name": "stdout",
          "text": [
            "Highest: 92 at index 5\n",
            "Lowest: 45 appears 2 times\n",
            "Reversed: [45, 58, 92, 89, 45.4, 76, 89.5, 45]\n",
            "76 found at index 2\n"
          ]
        }
      ]
    },
    {
      "cell_type": "markdown",
      "source": [
        "Question 3\n"
      ],
      "metadata": {
        "id": "0eXbeJplMnFc"
      }
    },
    {
      "cell_type": "code",
      "source": [
        "import random\n",
        "\n",
        "nums = [random.randint(100, 900) for _ in range(100)]\n",
        "# (i) part\n",
        "odds = [n for n in nums if n % 2 != 0]\n",
        "print(\"Odd numbers:\", odds)\n",
        "# (ii) part\n",
        "evens = [n for n in nums if n % 2 == 0]\n",
        "print(\"Even numbers:\", evens)\n",
        "# (iii) part\n",
        "def is_prime(n):\n",
        "    if n < 2:\n",
        "        return False\n",
        "    for i in range(2, int(n**0.5)+1):\n",
        "        if n % i == 0:\n",
        "            return False\n",
        "    return True\n",
        "\n",
        "primes = [n for n in nums if is_prime(n)]\n",
        "print(\"Prime numbers:\", primes)\n"
      ],
      "metadata": {
        "colab": {
          "base_uri": "https://localhost:8080/"
        },
        "id": "QXa7dBZ7Mpia",
        "outputId": "57261f50-6490-497c-bff7-badc425584f9"
      },
      "execution_count": 4,
      "outputs": [
        {
          "output_type": "stream",
          "name": "stdout",
          "text": [
            "Odd numbers: [489, 291, 669, 669, 519, 841, 435, 669, 425, 265, 363, 821, 479, 317, 767, 673, 879, 185, 147, 193, 433, 239, 803, 685, 395, 767, 303, 859, 719, 543, 569, 879, 209, 751, 761, 795, 117, 387, 757, 185, 521, 669, 617, 277, 523, 577, 643]\n",
            "Even numbers: [330, 568, 896, 294, 518, 616, 896, 258, 710, 522, 536, 212, 634, 614, 364, 690, 678, 332, 354, 430, 476, 762, 176, 672, 666, 322, 684, 280, 656, 632, 490, 526, 854, 520, 222, 488, 188, 886, 568, 868, 900, 768, 278, 254, 216, 774, 638, 442, 260, 342, 792, 542, 268]\n",
            "Prime numbers: [821, 479, 317, 673, 193, 433, 239, 859, 719, 569, 751, 761, 757, 521, 617, 277, 523, 577, 643]\n"
          ]
        }
      ]
    },
    {
      "cell_type": "markdown",
      "source": [
        "Question 4\n"
      ],
      "metadata": {
        "id": "_YG8Siu2NKYC"
      }
    },
    {
      "cell_type": "code",
      "source": [
        "A = {34, 56, 78, 90}\n",
        "B = {78, 45, 90, 23}\n",
        "# (i) part\n",
        "print(\"Union:\", A | B)  # or A.union(B)\n",
        "# (ii) part\n",
        "print(\"Common:\", A & B)  # or A.intersection(B)\n",
        "# (iii) part\n",
        "print(\"Exclusive:\", A ^ B)  # or A.symmetric_difference(B)\n",
        "# (iv) part\n",
        "print(\"A in B:\", A.issubset(B))\n",
        "print(\"B is superset of A:\", B.issuperset(A))\n",
        "# (v) part\n",
        "X = 56  # You can also use input(\"Enter number to remove: \")\n",
        "if X in A:\n",
        "    A.remove(X)\n",
        "    print(\"After removing:\", A)\n",
        "else:\n",
        "    print(X, \"not found in A\")\n"
      ],
      "metadata": {
        "colab": {
          "base_uri": "https://localhost:8080/"
        },
        "id": "8O2HUJdHNMdc",
        "outputId": "b2df6e15-03cc-4ac8-cc60-1ca6a2f271d0"
      },
      "execution_count": 5,
      "outputs": [
        {
          "output_type": "stream",
          "name": "stdout",
          "text": [
            "Union: {34, 45, 78, 23, 56, 90}\n",
            "Common: {90, 78}\n",
            "Exclusive: {34, 45, 23, 56}\n",
            "A in B: False\n",
            "B is superset of A: False\n",
            "After removing: {34, 90, 78}\n"
          ]
        }
      ]
    }
  ]
}